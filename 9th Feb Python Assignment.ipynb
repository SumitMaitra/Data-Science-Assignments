{
 "cells": [
  {
   "cell_type": "code",
   "execution_count": 1,
   "id": "a8086b4c-08b5-43e5-954c-2755db3d02c9",
   "metadata": {},
   "outputs": [],
   "source": [
    "# 1. Create a vehicle class with an init method having instance variables as name_of_vehicle, max_speed\n",
    "# and average_of_vehicle.\n",
    "# 2. Create a child class car from the vehicle class created in Que 1, which will inherit the vehicle class.\n",
    "# Create a method named seating_capacity which takes capacity as an argument and returns the name of\n",
    "# the vehicle and its seating capacity.\n",
    "class vehicle:\n",
    "    def __init__(self, name_of_vehicle, max_speed, average_of_vehicle):\n",
    "        self.name_of_vehicle = name_of_vehicle\n",
    "        self.max_speed = max_speed\n",
    "        self.average_of_vehicle = average_of_vehicle\n",
    "\n",
    "class car(vehicle):\n",
    "    def __init__(self, name_of_vehicle, max_speed, average_of_vehicle):\n",
    "        super().__init__(name_of_vehicle, max_speed, average_of_vehicle)\n",
    "    def seating_capacity(self, capacity):\n",
    "        return 'Name of the vehicle is:', self.name_of_vehicle, 'and the seating capacity is:', capacity"
   ]
  },
  {
   "cell_type": "code",
   "execution_count": 2,
   "id": "52a27b41-3295-4924-bec2-987dae82b651",
   "metadata": {},
   "outputs": [
    {
     "data": {
      "text/plain": [
       "('Name of the vehicle is:', 'BMW', 'and the seating capacity is:', 5)"
      ]
     },
     "execution_count": 2,
     "metadata": {},
     "output_type": "execute_result"
    }
   ],
   "source": [
    "my_car = car('BMW', 250, 20)\n",
    "my_car.seating_capacity(5)"
   ]
  },
  {
   "cell_type": "code",
   "execution_count": 4,
   "id": "146761e9-e206-43d7-8bbe-d42f9633c08d",
   "metadata": {},
   "outputs": [],
   "source": [
    "# 3. What is multiple inheritance? Write a python code to demonstrate multiple inheritance.\n",
    "''' Multiple inheritance : in multiple inheritances the newly derived class can have more than one superclass. \n",
    "And this newly derived class can inherit the features from these superclasses it has inherited from, \n",
    "so there are no restrictions. \n",
    "\n",
    "class A         class B\n",
    " |                 |\n",
    " |                 |\n",
    " ----> class C <----\n",
    "\n",
    "'''\n",
    "\n",
    "class D:\n",
    "    def method_of_classD(self):\n",
    "        print(\"This is form class D\")\n",
    "class E:\n",
    "    def method_of_classE(self):\n",
    "        print(\"This is form class E\")\n",
    "class F(D,E):\n",
    "    pass\n",
    "obj_F = F()"
   ]
  },
  {
   "cell_type": "code",
   "execution_count": 5,
   "id": "ffb4f996-29fe-4f1f-b2ad-772c2c10b9fd",
   "metadata": {},
   "outputs": [
    {
     "name": "stdout",
     "output_type": "stream",
     "text": [
      "This is form class D\n"
     ]
    }
   ],
   "source": [
    "obj_F.method_of_classD()"
   ]
  },
  {
   "cell_type": "code",
   "execution_count": 6,
   "id": "e0a67d82-4d65-4770-83a1-be92a07cc915",
   "metadata": {},
   "outputs": [
    {
     "name": "stdout",
     "output_type": "stream",
     "text": [
      "This is form class E\n"
     ]
    }
   ],
   "source": [
    "obj_F.method_of_classE()"
   ]
  },
  {
   "cell_type": "code",
   "execution_count": 5,
   "id": "2a1c0146-a904-4ef5-8f05-c70a6c8726f8",
   "metadata": {},
   "outputs": [],
   "source": [
    "# 4. What are getter and setter in python? Create a class and create a getter and a setter method in this class.\n",
    "'''\n",
    "Getter: A method that allows user to access an attribute in a given class\n",
    "Setter: A method that allows you to set or mutate the value of an attribute in a class\n",
    "\n",
    "'''\n",
    "class pws:\n",
    "    def __init__(self, course_price, course_name):\n",
    "        self.__course_price = course_price\n",
    "        self.course_name = course_name\n",
    "    @property\n",
    "    # method 'course_price_access' expose for access 'self.__course_price' also called 'getter'\n",
    "    def course_price_access(self):\n",
    "        return self.__course_price\n",
    "    #method 'course_price_access' expose for modify 'self.__course_price' also called 'setter'\n",
    "    @course_price_access.setter\n",
    "    def course_price_set(self, price):\n",
    "        if price < 3500:\n",
    "            pass\n",
    "        else:\n",
    "            self.__course_price=price"
   ]
  },
  {
   "cell_type": "code",
   "execution_count": 6,
   "id": "178197ce-3a08-4f9f-8deb-f8c5ba135c8b",
   "metadata": {},
   "outputs": [
    {
     "data": {
      "text/plain": [
       "3000"
      ]
     },
     "execution_count": 6,
     "metadata": {},
     "output_type": "execute_result"
    }
   ],
   "source": [
    "obj = pws(3000, 'DATA SCIENCE MASTERS')\n",
    "obj.course_price_access"
   ]
  },
  {
   "cell_type": "code",
   "execution_count": 8,
   "id": "551cdf20-7ac7-43d9-89f2-134cd4be5212",
   "metadata": {},
   "outputs": [
    {
     "data": {
      "text/plain": [
       "4500"
      ]
     },
     "execution_count": 8,
     "metadata": {},
     "output_type": "execute_result"
    }
   ],
   "source": [
    "obj.course_price_set=4500\n",
    "obj.course_price_access"
   ]
  },
  {
   "cell_type": "code",
   "execution_count": 14,
   "id": "2c6b20ad-1d6f-4754-b697-e6df96447bb8",
   "metadata": {},
   "outputs": [],
   "source": [
    "# 5. Q5.What is method overriding in python? Write a python code to demonstrate method overriding.\n",
    "'''\n",
    "method overriding - allows a sub-class or the child class to provide a specific implementation of a method, \n",
    "                    which is already provided by one of its  parent class or super-class.\n",
    "                    method in a child class has the same name, same parameters and same return type as a method in its parent class, \n",
    "                    then the method in the child class is said to override the method in the parent class.\n",
    "'''\n",
    "class Parent:\n",
    "    def __init__(self, operation):\n",
    "         self.operation = operation\n",
    "    def method1(self): \n",
    "        return self.operation **2\n",
    "class Child(Parent):\n",
    "    def __init__(self, operation):\n",
    "        self.operation = operation\n",
    "    def method1(self): # overridding the method 'method1' on child class with differnt implementation\n",
    "        return self.operation **3"
   ]
  },
  {
   "cell_type": "code",
   "execution_count": 15,
   "id": "4808e39c-d5eb-4c7d-9412-97dad619772a",
   "metadata": {},
   "outputs": [],
   "source": [
    "o= Parent(3)"
   ]
  },
  {
   "cell_type": "code",
   "execution_count": 16,
   "id": "057f74f7-c1fa-4117-91d7-7cdd571d6351",
   "metadata": {},
   "outputs": [
    {
     "data": {
      "text/plain": [
       "9"
      ]
     },
     "execution_count": 16,
     "metadata": {},
     "output_type": "execute_result"
    }
   ],
   "source": [
    "o.method1() # accessing the parent class method1"
   ]
  },
  {
   "cell_type": "code",
   "execution_count": 17,
   "id": "295a417d-8059-43f7-b2bd-2bb8f408451c",
   "metadata": {},
   "outputs": [],
   "source": [
    "oc= Child(3)"
   ]
  },
  {
   "cell_type": "code",
   "execution_count": 18,
   "id": "ceac338d-63f8-4f00-a6a3-9aa966e39925",
   "metadata": {},
   "outputs": [
    {
     "data": {
      "text/plain": [
       "27"
      ]
     },
     "execution_count": 18,
     "metadata": {},
     "output_type": "execute_result"
    }
   ],
   "source": [
    "oc.method1() # accessing the child class method1"
   ]
  }
 ],
 "metadata": {
  "kernelspec": {
   "display_name": "Python 3 (ipykernel)",
   "language": "python",
   "name": "python3"
  },
  "language_info": {
   "codemirror_mode": {
    "name": "ipython",
    "version": 3
   },
   "file_extension": ".py",
   "mimetype": "text/x-python",
   "name": "python",
   "nbconvert_exporter": "python",
   "pygments_lexer": "ipython3",
   "version": "3.10.8"
  }
 },
 "nbformat": 4,
 "nbformat_minor": 5
}
