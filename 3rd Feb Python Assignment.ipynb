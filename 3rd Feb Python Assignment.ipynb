{
 "cells": [
  {
   "cell_type": "code",
   "execution_count": 6,
   "id": "27e769a2-0468-4ab4-8e2b-af40fabe78d4",
   "metadata": {},
   "outputs": [
    {
     "name": "stdout",
     "output_type": "stream",
     "text": [
      "1\n",
      "2\n",
      "3\n",
      "4\n",
      "5\n",
      "6\n",
      "7\n",
      "8\n",
      "9\n",
      "10\n",
      "11\n",
      "12\n",
      "13\n",
      "14\n",
      "15\n",
      "16\n",
      "17\n",
      "18\n",
      "19\n",
      "20\n",
      "21\n",
      "22\n",
      "23\n",
      "24\n",
      "25\n"
     ]
    }
   ],
   "source": [
    "# 1. Which keyword is used to create a function? Create a function to return a list of odd numbers in the\n",
    "# range of 1 to 25.\n",
    "# Ans> def keyword s used to create a function.\n",
    "def odd_number():\n",
    "    for i in range(1, 26, 1):\n",
    "        print(i)   \n",
    "odd_number()             "
   ]
  },
  {
   "cell_type": "code",
   "execution_count": null,
   "id": "0fd3f3b3-dfd5-468b-b0bb-0aae3f3db59d",
   "metadata": {},
   "outputs": [],
   "source": [
    "# 2. Why *args and **kwargs is used in some functions? Create a function each for *args and **kwargs\n",
    "#to demonstrate their use."
   ]
  },
  {
   "cell_type": "code",
   "execution_count": 7,
   "id": "219a8059-88a5-4395-9a06-f9516b8cea65",
   "metadata": {},
   "outputs": [
    {
     "data": {
      "text/plain": [
       "('sumit', 'maitra', 1, 2, 3, 4)"
      ]
     },
     "execution_count": 7,
     "metadata": {},
     "output_type": "execute_result"
    }
   ],
   "source": [
    "# *args is used for variable input parameters, it accept any number of arguments\n",
    "def any_args(*args):\n",
    "    return args\n",
    "any_args('sumit','maitra',1,2,3,4)"
   ]
  },
  {
   "cell_type": "code",
   "execution_count": 11,
   "id": "6b529abe-7e66-4f9a-a1e4-432e64a5675f",
   "metadata": {},
   "outputs": [],
   "source": [
    " #................ *args can be used with extra parameters like thsi:\n",
    "def any_args1(*args,a):\n",
    "        return args,a"
   ]
  },
  {
   "cell_type": "code",
   "execution_count": 12,
   "id": "bf72dfd0-4eba-4cce-aeac-89dfb27b0679",
   "metadata": {},
   "outputs": [
    {
     "data": {
      "text/plain": [
       "((1, 2, 3, 4), 23)"
      ]
     },
     "execution_count": 12,
     "metadata": {},
     "output_type": "execute_result"
    }
   ],
   "source": [
    "any_args1(1,2,3,4, a=23)"
   ]
  },
  {
   "cell_type": "code",
   "execution_count": 15,
   "id": "abeac606-e5a2-44fd-9c89-b44245531f48",
   "metadata": {},
   "outputs": [],
   "source": [
    "#................... **kwargs used for variable input parameters with dictionary\n",
    "def any_args_dictionary(**kwargs): \n",
    "    return kwargs"
   ]
  },
  {
   "cell_type": "code",
   "execution_count": 16,
   "id": "26373228-efbc-4c12-9d98-c95778d6f486",
   "metadata": {},
   "outputs": [
    {
     "data": {
      "text/plain": [
       "{'a': [1, 2, 3, 4], 'b': 'sudh', 'c': 23.45}"
      ]
     },
     "execution_count": 16,
     "metadata": {},
     "output_type": "execute_result"
    }
   ],
   "source": [
    "any_args_dictionary(a=[1,2,3,4] , b = \"sudh\", c= 23.45)"
   ]
  },
  {
   "cell_type": "code",
   "execution_count": 32,
   "id": "297f88ef-0e09-4e0f-9137-97632402ac2c",
   "metadata": {},
   "outputs": [],
   "source": [
    "# 3. What is an iterator in python? Name the method used to initialise the iterator object and the method\n",
    "# used for iteration. Use these methods to print the first five elements of the given list [2, 4, 6, 8, 10, 12, 14,\n",
    "# 16, 18, 20].\n",
    "'''Iterator: An object which can itterate over an iterable object, by the next() method, and fetch the next data from that iterable object.\n",
    "   for making an object iterator we use iter() method and  Iterators have the next() method, which returns the next item of the object.'''\n",
    "\n",
    "list= [2, 4, 6, 8, 10, 12, 14, 16, 18, 20]\n",
    "def list_of_5():\n",
    "    i=0\n",
    "    while i< len(list):\n",
    "        yield list[i]\n",
    "        i +=1"
   ]
  },
  {
   "cell_type": "code",
   "execution_count": 33,
   "id": "37c82587-e599-4e2d-be58-f833d7187874",
   "metadata": {},
   "outputs": [
    {
     "name": "stdout",
     "output_type": "stream",
     "text": [
      "2\n",
      "4\n",
      "6\n",
      "8\n",
      "10\n"
     ]
    }
   ],
   "source": [
    "obj = list_of_5()\n",
    "for j in range(5):\n",
    "    print(next(obj))"
   ]
  },
  {
   "cell_type": "code",
   "execution_count": 20,
   "id": "f7135e62-304c-4940-b10c-f7a78dce585d",
   "metadata": {},
   "outputs": [
    {
     "name": "stdout",
     "output_type": "stream",
     "text": [
      "0\n",
      "1\n",
      "1\n",
      "2\n",
      "3\n",
      "5\n",
      "8\n",
      "13\n",
      "21\n",
      "34\n"
     ]
    }
   ],
   "source": [
    "# 4. What is a generator function in python? Why yield keyword is used? Give an example of a generator function.\n",
    "'''Generator function: function which generate and yeild large sequence of values from an iterator.\n",
    "    yield keyword : if we want to generate large sequence of value, we don't want to store all of them at once, \n",
    "    by using yield we can generate value one by one and show the output '''\n",
    "# Eg:\n",
    "def fibo(n):\n",
    "    a,b =0,1\n",
    "    for f in range(n): \n",
    "        yield a\n",
    "        a,b = b, a+b\n",
    "fibo_obj= fibo(10)\n",
    "for i in fibo_obj:\n",
    "    print(i)"
   ]
  },
  {
   "cell_type": "code",
   "execution_count": 1,
   "id": "14d47f67-4dcf-489f-8783-a54fcc30bc34",
   "metadata": {},
   "outputs": [
    {
     "name": "stdout",
     "output_type": "stream",
     "text": [
      "2\n",
      "3\n",
      "5\n",
      "7\n",
      "11\n",
      "13\n",
      "17\n",
      "19\n",
      "23\n",
      "29\n",
      "31\n",
      "37\n",
      "41\n",
      "43\n",
      "47\n",
      "53\n",
      "59\n",
      "61\n",
      "67\n",
      "71\n"
     ]
    }
   ],
   "source": [
    "# 5. Create a generator function for prime numbers less than 1000. Use the next() method to print the first 20 prime numbers.\n",
    "def prime_number():\n",
    "    for n in range(1,1000):\n",
    "        c = 0\n",
    "        for i in range(1,n+1):\n",
    "            if n%i ==0:\n",
    "                c += 1\n",
    "        if c==2:\n",
    "            yield n\n",
    "obj_prime = prime_number()\n",
    "for x in range(20):\n",
    "    print(next(obj_prime))"
   ]
  },
  {
   "cell_type": "code",
   "execution_count": 2,
   "id": "a0a416d2-2063-4086-a26a-bdc86adb8e9f",
   "metadata": {},
   "outputs": [
    {
     "name": "stdout",
     "output_type": "stream",
     "text": [
      "0\n",
      "1\n",
      "1\n",
      "2\n",
      "3\n",
      "5\n",
      "8\n",
      "13\n",
      "21\n",
      "34\n"
     ]
    }
   ],
   "source": [
    "#6. Write a python program to print the first 10 Fibonacci numbers using a while loop.\n",
    "def fibo(n):\n",
    "    a,b =0,1\n",
    "    c=n\n",
    "    while c>0:\n",
    "        yield a\n",
    "        a, b= b, a+b\n",
    "        c -= 1\n",
    "obj_fibo = fibo(10)\n",
    "for i in obj_fibo:\n",
    "    print(i)"
   ]
  },
  {
   "cell_type": "code",
   "execution_count": 3,
   "id": "fe40c8bd-6bf5-4a2e-8a17-314a27462479",
   "metadata": {},
   "outputs": [
    {
     "data": {
      "text/plain": [
       "['p', 'w', 's', 'k', 'i', 'l', 'l', 's']"
      ]
     },
     "execution_count": 3,
     "metadata": {},
     "output_type": "execute_result"
    }
   ],
   "source": [
    "#7. Write a List Comprehension to iterate through the given string: ‘pwskills’.\n",
    "# Expected output: ['p', 'w', 's', 'k', 'i', 'l', 'l', 's']\n",
    "l=[]\n",
    "[l.append(i) for i in 'pwskills']\n",
    "l"
   ]
  },
  {
   "cell_type": "code",
   "execution_count": 4,
   "id": "ec0bb0fc-c971-4d82-bf9b-087e43235823",
   "metadata": {},
   "outputs": [
    {
     "name": "stdin",
     "output_type": "stream",
     "text": [
      "enter a number  121\n"
     ]
    },
    {
     "name": "stdout",
     "output_type": "stream",
     "text": [
      "121 Is A Palindrom Number\n"
     ]
    }
   ],
   "source": [
    "# 8. Write a python program to check whether a given number is Palindrome or not using a while loop.\n",
    "n= int(input(\"enter a number \"))\n",
    "n1 = str(n)\n",
    "c=len(n1)\n",
    "s=\"\"\n",
    "while c>0 :\n",
    "    s=s+(n1[c-1])\n",
    "    c -=1\n",
    "if n1 == s:\n",
    "    print(n,\"Is A Palindrom Number\")\n",
    "else:\n",
    "    print(n,\"Is Not A Palindrom Number\")\n"
   ]
  },
  {
   "cell_type": "code",
   "execution_count": 5,
   "id": "54b82d26-8be0-4baa-ab42-404cab3672fa",
   "metadata": {},
   "outputs": [
    {
     "data": {
      "text/plain": [
       "[1,\n",
       " 3,\n",
       " 5,\n",
       " 7,\n",
       " 9,\n",
       " 11,\n",
       " 13,\n",
       " 15,\n",
       " 17,\n",
       " 19,\n",
       " 21,\n",
       " 23,\n",
       " 25,\n",
       " 27,\n",
       " 29,\n",
       " 31,\n",
       " 33,\n",
       " 35,\n",
       " 37,\n",
       " 39,\n",
       " 41,\n",
       " 43,\n",
       " 45,\n",
       " 47,\n",
       " 49,\n",
       " 51,\n",
       " 53,\n",
       " 55,\n",
       " 57,\n",
       " 59,\n",
       " 61,\n",
       " 63,\n",
       " 65,\n",
       " 67,\n",
       " 69,\n",
       " 71,\n",
       " 73,\n",
       " 75,\n",
       " 77,\n",
       " 79,\n",
       " 81,\n",
       " 83,\n",
       " 85,\n",
       " 87,\n",
       " 89,\n",
       " 91,\n",
       " 93,\n",
       " 95,\n",
       " 97,\n",
       " 99]"
      ]
     },
     "execution_count": 5,
     "metadata": {},
     "output_type": "execute_result"
    }
   ],
   "source": [
    "# # Q9. Write a code to print odd numbers from 1 to 100 using list comprehension.\n",
    "# Note: Use a list comprehension to create a list from 1 to 100 and use another List comprehension to filter\n",
    "# out odd numbers.\n",
    "l=[i for i in range(1,101)]\n",
    "[x  for x in l if x%2!=0]"
   ]
  }
 ],
 "metadata": {
  "kernelspec": {
   "display_name": "Python 3 (ipykernel)",
   "language": "python",
   "name": "python3"
  },
  "language_info": {
   "codemirror_mode": {
    "name": "ipython",
    "version": 3
   },
   "file_extension": ".py",
   "mimetype": "text/x-python",
   "name": "python",
   "nbconvert_exporter": "python",
   "pygments_lexer": "ipython3",
   "version": "3.10.8"
  }
 },
 "nbformat": 4,
 "nbformat_minor": 5
}
