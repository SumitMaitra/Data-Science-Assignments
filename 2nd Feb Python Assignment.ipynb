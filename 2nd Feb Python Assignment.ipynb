{
 "cells": [
  {
   "cell_type": "code",
   "execution_count": 3,
   "id": "906839b0-c442-45ca-9304-9c65caec5b58",
   "metadata": {},
   "outputs": [
    {
     "name": "stdout",
     "output_type": "stream",
     "text": [
      "science\n",
      "data\n",
      "maitra\n",
      "sumit\n"
     ]
    }
   ],
   "source": [
    "# 1. Explain with an example each when to use a for loop and a while loop.\n",
    "''' for loop is usde when the number of itterations are known,\n",
    "    it does not check the condition first'''\n",
    "#eg: for loop .... to print list element in reverse order\n",
    "l=[\"sumit\", \"maitra\", \"data\", \"science\"]\n",
    "for i in range(len(l)-1,-1,-1):\n",
    "    print (l[i])"
   ]
  },
  {
   "cell_type": "code",
   "execution_count": 5,
   "id": "c7709b0f-b47e-49ce-afd2-ad2a6c6d6c6c",
   "metadata": {},
   "outputs": [
    {
     "name": "stdout",
     "output_type": "stream",
     "text": [
      "science\n",
      "data\n",
      "maitra\n",
      "sumit\n"
     ]
    }
   ],
   "source": [
    "''' while loop check the condition first if the condition is true \n",
    "    then execute the code inside the while loop '''\n",
    "#eg: while loop .... to print list element in reverse order\n",
    "l=[\"sumit\", \"maitra\", \"data\", \"science\"]\n",
    "i=len(l)\n",
    "while i>0 :\n",
    "    print(l[i-1])\n",
    "    i -=1"
   ]
  },
  {
   "cell_type": "code",
   "execution_count": null,
   "id": "ad0e70e7-a6c6-4f45-8cf6-09d99c2a0ac9",
   "metadata": {},
   "outputs": [],
   "source": [
    "# 2. Write a python program to print the sum and product of the first 10 natural numbers using for and while loop."
   ]
  },
  {
   "cell_type": "code",
   "execution_count": 1,
   "id": "cb439ef6-ac0e-4ea1-8294-57e7f111e3d4",
   "metadata": {},
   "outputs": [
    {
     "name": "stdout",
     "output_type": "stream",
     "text": [
      "sum : 55 \n",
      "Multipication : 3628800\n"
     ]
    }
   ],
   "source": [
    "sum, mul=0, 1\n",
    "for i in range(1,11):\n",
    "    sum = i +sum\n",
    "    mul = i *mul\n",
    "print('sum :', sum ,'\\nMultipication :', mul)"
   ]
  },
  {
   "cell_type": "code",
   "execution_count": 2,
   "id": "6bef244a-138c-473d-8809-5e0d1aa4c6ce",
   "metadata": {},
   "outputs": [
    {
     "name": "stdout",
     "output_type": "stream",
     "text": [
      "SUM: 55 \n",
      "MULTIPICATION: 3628800\n"
     ]
    }
   ],
   "source": [
    "sum, mul=0, 1\n",
    "i=1\n",
    "while i <= 10:\n",
    "    sum = i +sum\n",
    "    mul = i * mul\n",
    "    i +=1\n",
    "print('SUM:',sum, '\\nMULTIPICATION:',mul)"
   ]
  },
  {
   "cell_type": "code",
   "execution_count": 1,
   "id": "e7f0fd58-6b97-410f-bdc7-e818282cfbbd",
   "metadata": {},
   "outputs": [
    {
     "name": "stdout",
     "output_type": "stream",
     "text": [
      "[8, 64, 125, 216, 512, 1000, 1728, 2744, 3375, 4096, 5832, 8000, 10648, 13824, 15625, 17576, 21952, 27000, 32768, 39304, 42875, 46656, 54872, 64000, 74088, 85184, 91125, 97336, 110592, 125000, 140608, 157464, 166375, 175616, 195112, 216000, 238328, 262144, 274625, 287496, 314432, 343000, 373248, 405224, 421875, 438976, 474552, 512000, 551368, 592704, 614125, 636056, 681472, 729000, 778688, 830584, 857375, 884736, 941192, 1000000]\n"
     ]
    }
   ],
   "source": [
    "# 4. Create a list of numbers from 1 to 100. Use for loop and while loop to calculate the cube of each\n",
    "# number and if the cube of that number is divisible by 4 or 5 then append that number in a list and print\n",
    "# that list.\n",
    "l=[]\n",
    "for i in range(1,101):\n",
    "    result =i**3\n",
    "    if result%4 ==0 or result % 5 ==0:\n",
    "        l.append(result)\n",
    "print (l)"
   ]
  },
  {
   "cell_type": "code",
   "execution_count": 1,
   "id": "15184dcf-862a-435d-a974-d544f7373ba5",
   "metadata": {},
   "outputs": [
    {
     "name": "stdout",
     "output_type": "stream",
     "text": [
      "[8, 64, 125, 216, 512, 1000, 1728, 2744, 3375, 4096, 5832, 8000, 10648, 13824, 15625, 17576, 21952, 27000, 32768, 39304, 42875, 46656, 54872, 64000, 74088, 85184, 91125, 97336, 110592, 125000, 140608, 157464, 166375, 175616, 195112, 216000, 238328, 262144, 274625, 287496, 314432, 343000, 373248, 405224, 421875, 438976, 474552, 512000, 551368, 592704, 614125, 636056, 681472, 729000, 778688, 830584, 857375, 884736, 941192, 1000000]\n"
     ]
    }
   ],
   "source": [
    "l=[]\n",
    "i=1\n",
    "while i<=100:\n",
    "    result =i**3\n",
    "    if result%4 ==0 or result % 5 ==0:\n",
    "        l.append(result)\n",
    "    i +=1\n",
    "print (l)"
   ]
  },
  {
   "cell_type": "code",
   "execution_count": 2,
   "id": "c7290c82-eb74-43c3-a14a-19fc265e48d3",
   "metadata": {},
   "outputs": [
    {
     "name": "stdout",
     "output_type": "stream",
     "text": [
      "12\n"
     ]
    }
   ],
   "source": [
    "#Q5. Write a program to filter count vowels in the below-given string.\n",
    "#string = \"I want to become a data scientist\"\n",
    "string = \"I want to become a data scientist\"\n",
    "l = 'AEIOUaeiou'\n",
    "c=0\n",
    "for i in string:\n",
    "    if i in l:\n",
    "        c +=1\n",
    "print(c)"
   ]
  }
 ],
 "metadata": {
  "kernelspec": {
   "display_name": "Python 3 (ipykernel)",
   "language": "python",
   "name": "python3"
  },
  "language_info": {
   "codemirror_mode": {
    "name": "ipython",
    "version": 3
   },
   "file_extension": ".py",
   "mimetype": "text/x-python",
   "name": "python",
   "nbconvert_exporter": "python",
   "pygments_lexer": "ipython3",
   "version": "3.10.8"
  }
 },
 "nbformat": 4,
 "nbformat_minor": 5
}
