{
 "cells": [
  {
   "cell_type": "code",
   "execution_count": 3,
   "id": "22f56925-848c-4c50-a6de-0f455816647e",
   "metadata": {},
   "outputs": [
    {
     "name": "stdin",
     "output_type": "stream",
     "text": [
      "Enter password:  SMqw1@#*&3\n"
     ]
    },
    {
     "data": {
      "text/plain": [
       "'Valid Password'"
      ]
     },
     "execution_count": 3,
     "metadata": {},
     "output_type": "execute_result"
    }
   ],
   "source": [
    "# 1. You are writing code for a company. The requirement of the company is that you create a python\n",
    "# function that will check whether the password entered by the user is correct or not. The function should\n",
    "# take the password as input and return the string “Valid Password” if the entered password follows the\n",
    "# below-given password guidelines else it should return “Invalid Password”.\n",
    "# Note: \n",
    "#1. The Password should contain at least two uppercase letters and at least two lowercase letters.\n",
    "# 2. The Password should contain at least a number and three special characters.\n",
    "# 3. The length of the password should be 10 characters long.\n",
    "\n",
    "def password_validation():\n",
    "    password = input(\"Enter password: \")\n",
    "    num_uppercase = sum(1 for c in password if c.isupper())\n",
    "    num_lower = sum(1 for c in password if c.islower())\n",
    "    num_num = sum(1 for c in password if c.isnumeric())\n",
    "    num_spchar = sum(1 for i in password if not(i.isalpha() or i.isdigit() or i == ' ') )\n",
    "    num_length = len(password)\n",
    "    if num_uppercase >= 2 and num_lower>=2 and num_num>=1 and num_spchar>=4 and num_length ==10:\n",
    "        return 'Valid Password'\n",
    "    else:\n",
    "        return 'Invaild Password'\n",
    "obj_password_validation = password_validation()\n",
    "\n",
    "obj_password_validation"
   ]
  },
  {
   "cell_type": "code",
   "execution_count": null,
   "id": "ad66a4b1-d352-4d1a-8d7a-a3765984e37a",
   "metadata": {},
   "outputs": [],
   "source": [
    "# 2. Solve the below-given questions using at least one of the following:\n",
    "# 1. Lambda function\n",
    "# 2. Filter function\n",
    "# 3. Map function\n",
    "# 4. List Comprehension"
   ]
  },
  {
   "cell_type": "code",
   "execution_count": 5,
   "id": "2ba4c9d7-cd42-41a4-8137-dd9c44f61a96",
   "metadata": {},
   "outputs": [
    {
     "data": {
      "text/plain": [
       "True"
      ]
     },
     "execution_count": 5,
     "metadata": {},
     "output_type": "execute_result"
    }
   ],
   "source": [
    "# Check if the string starts with a particular letter.\n",
    "ls = lambda x,y: x[0] == y[0]\n",
    "ls('Budfhdh', 'Bjjsdjewi')"
   ]
  },
  {
   "cell_type": "code",
   "execution_count": 6,
   "id": "564219f1-9f06-4e0c-a233-49b7c7dc0d75",
   "metadata": {},
   "outputs": [
    {
     "data": {
      "text/plain": [
       "True"
      ]
     },
     "execution_count": 6,
     "metadata": {},
     "output_type": "execute_result"
    }
   ],
   "source": [
    "# Check if the string is numeric.\n",
    "is_num = lambda x: x.isnumeric()\n",
    "is_num('123467')"
   ]
  },
  {
   "cell_type": "code",
   "execution_count": 8,
   "id": "570ab46b-7f80-4661-8172-007975b03f74",
   "metadata": {},
   "outputs": [
    {
     "data": {
      "text/plain": [
       "([('orange', 80), ('mango', 99), ('grapes', 1000)],\n",
       " [('grapes', 1000), ('mango', 99), ('orange', 80)])"
      ]
     },
     "execution_count": 8,
     "metadata": {},
     "output_type": "execute_result"
    }
   ],
   "source": [
    "# Sort a list of tuples having fruit names and their quantity. [(\"mango\",99),(\"orange\",80), (\"grapes\", 1000)]\n",
    "lt =[(\"mango\",99),(\"orange\",80), (\"grapes\", 1000)]\n",
    "k1= sorted(lt,key=lambda x:x[1])\n",
    "k0 = sorted(lt,key=lambda x:x[0])\n",
    "k1, k0"
   ]
  },
  {
   "cell_type": "code",
   "execution_count": 9,
   "id": "99f9de3b-2110-4cd9-bfbd-86beb1f355bc",
   "metadata": {},
   "outputs": [
    {
     "data": {
      "text/plain": [
       "[1, 4, 9, 16, 25, 36, 49, 64, 81, 100]"
      ]
     },
     "execution_count": 9,
     "metadata": {},
     "output_type": "execute_result"
    }
   ],
   "source": [
    "# Find the squares of numbers from 1 to 10.\n",
    "lam = map(lambda x: x**2, range(1,11))\n",
    "list(lam)"
   ]
  },
  {
   "cell_type": "code",
   "execution_count": 13,
   "id": "b214275f-092c-4564-8ca0-87c760ad1ce5",
   "metadata": {},
   "outputs": [
    {
     "data": {
      "text/plain": [
       "[1, 8, 27, 64, 125, 216, 343, 512, 729, 1000]"
      ]
     },
     "execution_count": 13,
     "metadata": {},
     "output_type": "execute_result"
    }
   ],
   "source": [
    "# Find the cube root of numbers from 1 to 10.\n",
    "lam = map(lambda x: x**3, range(1,11))\n",
    "list(lam)"
   ]
  },
  {
   "cell_type": "code",
   "execution_count": 14,
   "id": "4a0324cd-075f-4de4-b901-cfeb5e7f3241",
   "metadata": {},
   "outputs": [
    {
     "data": {
      "text/plain": [
       "False"
      ]
     },
     "execution_count": 14,
     "metadata": {},
     "output_type": "execute_result"
    }
   ],
   "source": [
    "# Check if a given number is even.\n",
    "l_even = lambda even_num:True if even_num % 2 ==0  else False\n",
    "l_even(7)"
   ]
  },
  {
   "cell_type": "code",
   "execution_count": 15,
   "id": "c34ef17b-4623-4503-8211-68b6ec3e8fa1",
   "metadata": {},
   "outputs": [
    {
     "data": {
      "text/plain": [
       "[1, 3, 5, 7, 9]"
      ]
     },
     "execution_count": 15,
     "metadata": {},
     "output_type": "execute_result"
    }
   ],
   "source": [
    "# Filter odd numbers from the given list.\n",
    "# [1,2,3,4,5,6,7,8,9,10]\n",
    "lst = [1,2,3,4,5,6,7,8,9,10]\n",
    "odd = filter(lambda x:x if x%2 != 0 else False, lst)\n",
    "list(odd)"
   ]
  },
  {
   "cell_type": "code",
   "execution_count": 24,
   "id": "d47e5f74-5049-4bfd-a089-cffac0ac5264",
   "metadata": {},
   "outputs": [
    {
     "name": "stdout",
     "output_type": "stream",
     "text": [
      "+Ve Numbers: [1, 2, 3, 4, 5, 6] -Ve Numbers: [-1, -2, -3, -4, -5, 0]\n"
     ]
    }
   ],
   "source": [
    "# Sort a list of integers into positive and negative integers lists.\n",
    "# [1,2,3,4,5,6,-1,-2,-3,-4,-5,0]\n",
    "pv_nv= [1,2,3,4,5,6,-1,-2,-3,-4,-5,0]\n",
    "l1,l2= [],[]\n",
    "list(map(lambda x:l1.append(x) if x>0 else l2.append(x), pv_nv))\n",
    "print('+Ve Numbers:',l1,'-Ve Numbers:',l2)"
   ]
  }
 ],
 "metadata": {
  "kernelspec": {
   "display_name": "Python 3 (ipykernel)",
   "language": "python",
   "name": "python3"
  },
  "language_info": {
   "codemirror_mode": {
    "name": "ipython",
    "version": 3
   },
   "file_extension": ".py",
   "mimetype": "text/x-python",
   "name": "python",
   "nbconvert_exporter": "python",
   "pygments_lexer": "ipython3",
   "version": "3.10.8"
  }
 },
 "nbformat": 4,
 "nbformat_minor": 5
}
