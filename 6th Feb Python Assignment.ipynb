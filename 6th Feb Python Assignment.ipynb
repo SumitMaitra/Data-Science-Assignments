{
 "cells": [
  {
   "cell_type": "code",
   "execution_count": 1,
   "id": "c9db9c11-f67a-4e6f-a96d-f053fc1cf881",
   "metadata": {},
   "outputs": [],
   "source": [
    "#  1. Create a function which will take a list as an argument and return the product of all the numbers\n",
    "# after creating a flat list.\n",
    "# Use the below-given list as an argument for your function.\n",
    "# list1 = [1,2,3,4, [44,55,66, True], False, (34,56,78,89,34), {1,2,3,3,2,1}, {1:34, \"key2\": [55, 67, 78, 89], 4: (45,\n",
    "# 22, 61, 34)}, [56, 'data science'], 'Machine Learning']\n",
    "# Note: you must extract numeric keys and values of the dictionary also.\n",
    "\n",
    "\n",
    "list1 = [1,2,3,4, [44,55,66, True], False, (34,56,78,89,34), {1,2,3,3,2,1}, {1:34, \"key2\": [55, 67, 78, 89], 4: (45,22, 61, 34)}, [56, 'data science'], 'Machine Learning']\n",
    "def multiply(list1):\n",
    "    l, multiply=[], 1\n",
    "    for i in range(len(list1)):\n",
    "        if type(list1[i]) == int:\n",
    "            l.append(list1[i])\n",
    "        elif type(list1[i]) == list or type(list1[i]) == tuple:\n",
    "            for j in range (len(list1[i])):\n",
    "                if type(list1[i][j]) == int:\n",
    "                    l.append(list1[i][j])\n",
    "        elif type(list1[i]) == set:\n",
    "            for k in range(len(list(list1[i]))):\n",
    "                l.append(list(list1[i])[k])\n",
    "        elif type(list1[i]) == dict:\n",
    "            for x in range(len(list(list1[i].keys()))):\n",
    "                if type(list(list1[i].keys())[x]) == int:\n",
    "                    l.append(list(list1[i].keys())[x])\n",
    "            for y in range(len(list(list1[i].values()))):\n",
    "                if type(list(list1[i].values())[y]) == int:\n",
    "                    l.append(list(list1[i].values())[y])\n",
    "                elif type(list(list1[i].values())[y]) == list or type(list(list1[i].values())[y]) == tuple:\n",
    "                    for z in range(len(list(list1[i].values())[y])):\n",
    "                        l.append(list(list1[i].values())[y][z])\n",
    "    for m in range(len(l)) :\n",
    "        multiply = multiply*l[m]\n",
    "    return l, multiply"
   ]
  },
  {
   "cell_type": "code",
   "execution_count": 2,
   "id": "d7744ff7-96e0-4c28-a4bb-7e1c2a6630e6",
   "metadata": {},
   "outputs": [
    {
     "data": {
      "text/plain": [
       "([1,\n",
       "  2,\n",
       "  3,\n",
       "  4,\n",
       "  44,\n",
       "  55,\n",
       "  66,\n",
       "  34,\n",
       "  56,\n",
       "  78,\n",
       "  89,\n",
       "  34,\n",
       "  1,\n",
       "  2,\n",
       "  3,\n",
       "  1,\n",
       "  4,\n",
       "  34,\n",
       "  55,\n",
       "  67,\n",
       "  78,\n",
       "  89,\n",
       "  45,\n",
       "  22,\n",
       "  61,\n",
       "  34,\n",
       "  56],\n",
       " 4134711838987085478833841242112000)"
      ]
     },
     "execution_count": 2,
     "metadata": {},
     "output_type": "execute_result"
    }
   ],
   "source": [
    "obj_mul= multiply(list1)\n",
    "obj_mul"
   ]
  },
  {
   "cell_type": "code",
   "execution_count": 5,
   "id": "9ca3167f-80d7-4039-b8f0-93dc14cccede",
   "metadata": {},
   "outputs": [],
   "source": [
    "# 2. Write a python program for encrypting a message sent to you by your friend. The logic of encryption\n",
    "# should be such that, for a the output should be z. For b, the output should be y. For c, the output should\n",
    "# be x respectively. Also, the whitespace should be replaced with a dollar sign. Keep the punctuation\n",
    "# marks unchanged.\n",
    "# Input Sentence: I want to become a Data Scientist.\n",
    "# Encrypt the above input sentence using the program you just created.\n",
    "# Note: Convert the given input sentence into lowercase before encrypting. The final output should be\n",
    "# lowercase.\n",
    "\n",
    "def encrypt_message(message):\n",
    "    # Convert message to lowercase\n",
    "    message = message.lower()\n",
    "    # Create a dictionary for the encryption logic\n",
    "    encryption_dict = {\n",
    "        'a': 'z',\n",
    "        'b': 'y',\n",
    "        'c': 'x',\n",
    "        'd': 'w',\n",
    "        'e': 'v',\n",
    "        'f': 'u',\n",
    "        'g': 't',\n",
    "        'h': 's',\n",
    "        'i': 'r',\n",
    "        'j': 'q',\n",
    "        'k': 'p',\n",
    "        'l': 'o',\n",
    "        'm': 'n',\n",
    "        'n': 'm',\n",
    "        'o': 'l',\n",
    "        'p': 'k',\n",
    "        'q': 'j',\n",
    "        'r': 'i',\n",
    "        's': 'h',\n",
    "        't': 'g',\n",
    "        'u': 'f',\n",
    "        'v': 'e',\n",
    "        'w': 'd',\n",
    "        'x': 'c',\n",
    "        'y': 'b',\n",
    "        'z': 'a',\n",
    "        ' ': '$',\n",
    "    }\n",
    "    encrypted_message = ''\n",
    "    for i in message:\n",
    "        if i in encryption_dict:\n",
    "            encrypted_message += encryption_dict[i]\n",
    "        else:\n",
    "            encrypted_message += i\n",
    "    return encrypted_message"
   ]
  },
  {
   "cell_type": "code",
   "execution_count": 6,
   "id": "aff40bfa-3563-4044-9fb9-c7aad1bbf38c",
   "metadata": {},
   "outputs": [
    {
     "name": "stdout",
     "output_type": "stream",
     "text": [
      "r$dzmg$gl$yvxlnv$z$wzgz$hxrvmgrhg.\n"
     ]
    }
   ],
   "source": [
    "message = 'I want to become a Data Scientist.'\n",
    "encrypted_message = encrypt_message(message)\n",
    "print(encrypted_message)"
   ]
  },
  {
   "cell_type": "code",
   "execution_count": null,
   "id": "a449da1e-4f56-4477-9262-cb7eb747fe7f",
   "metadata": {},
   "outputs": [],
   "source": []
  }
 ],
 "metadata": {
  "kernelspec": {
   "display_name": "Python 3 (ipykernel)",
   "language": "python",
   "name": "python3"
  },
  "language_info": {
   "codemirror_mode": {
    "name": "ipython",
    "version": 3
   },
   "file_extension": ".py",
   "mimetype": "text/x-python",
   "name": "python",
   "nbconvert_exporter": "python",
   "pygments_lexer": "ipython3",
   "version": "3.10.8"
  }
 },
 "nbformat": 4,
 "nbformat_minor": 5
}
