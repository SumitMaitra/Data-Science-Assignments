{
 "cells": [
  {
   "cell_type": "code",
   "execution_count": 1,
   "id": "b230a376-ce99-4271-bd20-9ce89e083235",
   "metadata": {},
   "outputs": [],
   "source": [
    "# 1. Explain Class and Object with respect to Object-Oriented Programming. Give a suitable example.\n",
    "''' Class : Blueprint of a real world entity but not specific to a real world entity. In a class, we can define the data that makes up the object \n",
    "(known as attributes or properties) and the functions or methods that operate on that data. When we create a new instance of a class,\n",
    "we're creating a new object that has all of the data and functionality defined in the class.\n",
    "Classes provide a way to organize wer code into logical units, making it easier to reason about and maintain.\n",
    "\n",
    "Object : An object, on the other hand, is an instance of a class. When we create an object, we're essentially creating \n",
    "a copy of the class with its own set of data. The data that belongs to an object is stored in its instance variables \n",
    "or attributes, and the methods of the class operate on that data. '''\n",
    "\n",
    "class pwskills:\n",
    "    def __init__(self, phone_number, email_id, student_id):\n",
    "        self.phone_number = phone_number\n",
    "        self.email_id = email_id\n",
    "        self.student_id = student_id \n",
    "    def return_student_details(self) :\n",
    "        return self.phone_number, self.email_id, self.student_id"
   ]
  },
  {
   "cell_type": "code",
   "execution_count": 2,
   "id": "1dbb9c52-a2be-4a73-bae5-8bb4d3c279cc",
   "metadata": {},
   "outputs": [],
   "source": [
    "sumit =  pwskills(121286786,'sumit@gmail.com', 1) # object"
   ]
  },
  {
   "cell_type": "code",
   "execution_count": 3,
   "id": "82b532de-087c-4610-8124-d5f0d9081b80",
   "metadata": {},
   "outputs": [
    {
     "data": {
      "text/plain": [
       "(121286786, 'sumit@gmail.com', 1)"
      ]
     },
     "execution_count": 3,
     "metadata": {},
     "output_type": "execute_result"
    }
   ],
   "source": [
    "sumit.return_student_details()"
   ]
  },
  {
   "cell_type": "code",
   "execution_count": 4,
   "id": "979efd04-11f2-4649-b73d-5f0d570809db",
   "metadata": {},
   "outputs": [
    {
     "data": {
      "text/plain": [
       "121286786"
      ]
     },
     "execution_count": 4,
     "metadata": {},
     "output_type": "execute_result"
    }
   ],
   "source": [
    "sumit.phone_number"
   ]
  },
  {
   "cell_type": "code",
   "execution_count": null,
   "id": "0507138d-6f27-4d45-961e-4f1943edecd6",
   "metadata": {},
   "outputs": [],
   "source": [
    "# 2. Name the four pillars of OOPs.\n",
    "''' \n",
    "Encapsulation: This refers to the practice of bundling data and methods that act on that data within a single unit, \n",
    "i.e., a class. Encapsulation allows objects to hide their internal workings from the rest of the program, \n",
    "making them more modular and easier to maintain.\n",
    "\n",
    "Inheritance: This is a mechanism that allows a new class to be based on an existing class, inheriting its properties and behaviors. \n",
    "Inheritance promotes code reuse and allows for the creation of a hierarchy of related classes.\n",
    "\n",
    "Polymorphism: This refers to the ability of objects to take on multiple forms, i.e., to behave differently depending on the context in which they are used. \n",
    "Polymorphism allows for more flexible and dynamic programming.\n",
    "\n",
    "Abstraction: This is the practice of modeling complex real-world systems by focusing only on the essential features and ignoring irrelevant details. \n",
    "Abstraction allows programmers to create simpler, more modular code that is easier to maintain and understand. '''"
   ]
  },
  {
   "cell_type": "code",
   "execution_count": 5,
   "id": "624116cd-2c33-48f1-80ab-fb933a6760eb",
   "metadata": {},
   "outputs": [],
   "source": [
    "# 3. Explain why the __init__() function is used. Give a suitable example.\n",
    "''' The __init__ method is similar to constructors in C++ and Java. The task of constructors is to initialize /assign values \n",
    "to the data members of the class when an object of the class is created. \n",
    "Like methods, a constructor also contains a collection of statements(i.e. instructions) that are executed at the time of Object creation. '''\n",
    "\n",
    "class pwskills1:\n",
    "    def __init__(sumit, phone_number, email_id, student_id): #self is not a reserve keyword... '__init__' to initialize values...\n",
    "        sumit.phone_number1 = phone_number \n",
    "        sumit.email_id1 = email_id \n",
    "        sumit.student_id1 = student_id \n",
    "    def return_student_details(sumit) :\n",
    "        return sumit.phone_number1, sumit.email_id1, sumit.student_id1"
   ]
  },
  {
   "cell_type": "code",
   "execution_count": 7,
   "id": "6e187fdb-3221-45ce-9690-eeeccc3f015c",
   "metadata": {},
   "outputs": [],
   "source": [
    "bumba = pwskills1(262621,'bumba@gmail.com',7) # object creation"
   ]
  },
  {
   "cell_type": "code",
   "execution_count": 8,
   "id": "a5e9e323-6ad0-453a-920a-6f6f3632d066",
   "metadata": {},
   "outputs": [
    {
     "data": {
      "text/plain": [
       "262621"
      ]
     },
     "execution_count": 8,
     "metadata": {},
     "output_type": "execute_result"
    }
   ],
   "source": [
    "bumba.phone_number1 # ritrive value"
   ]
  },
  {
   "cell_type": "code",
   "execution_count": null,
   "id": "a8c6b3c1-575c-42bd-bab2-52e4d40e8389",
   "metadata": {},
   "outputs": [],
   "source": [
    "# 4. Why self is used in OOPs?\n",
    "''' self : self is used to bind variables / methods with the class, it provide refrence through class. \n",
    "Only with 'self' associated variable understand by class (left side) right side variable are only for taking user input.\n",
    "'self' is not a reserve keyword it can be anything. '''"
   ]
  },
  {
   "cell_type": "code",
   "execution_count": 1,
   "id": "55ee93f7-f05d-476c-bc76-cc3da378cd8f",
   "metadata": {},
   "outputs": [],
   "source": [
    "# 5. What is inheritance? Give an example for each type of inheritance.\n",
    "'''\n",
    "Inheritance : It allow us to define a class (child class) which inherit properties and methods from other class.\n",
    "\n",
    "Multi-level inheritance : Includes the involvement of at least two or more than two classes. \n",
    "One class inherits the features from a parent class and the newly created sub-class becomes \n",
    "the base class for another new class.\n",
    "\n",
    "class A-------\n",
    " |           |\n",
    " v           |\n",
    "class B------|\n",
    " |           |\n",
    " v           |\n",
    "class C <-----\n",
    "\n",
    "'''\n",
    "class A:\n",
    "    def method_of_classA(self):\n",
    "        print(\"This is form class A\")\n",
    "class B(A):\n",
    "    def method_of_classB(self):\n",
    "        print(\"This is form class B\")\n",
    "class C(B):\n",
    "    pass\n",
    "obj_C = C()"
   ]
  },
  {
   "cell_type": "code",
   "execution_count": 2,
   "id": "4e2e7d5e-4e4c-4162-8387-a0dd0f943c28",
   "metadata": {},
   "outputs": [
    {
     "name": "stdout",
     "output_type": "stream",
     "text": [
      "This is form class A\n"
     ]
    }
   ],
   "source": [
    "obj_C.method_of_classA()\n"
   ]
  },
  {
   "cell_type": "code",
   "execution_count": 3,
   "id": "ade46ee1-667b-4c17-a60e-bf89ad3ed71d",
   "metadata": {},
   "outputs": [
    {
     "name": "stdout",
     "output_type": "stream",
     "text": [
      "This is form class B\n"
     ]
    }
   ],
   "source": [
    "obj_C.method_of_classB()"
   ]
  },
  {
   "cell_type": "code",
   "execution_count": 10,
   "id": "0b16aac7-4885-43e2-8c71-4e6eeee7e1c4",
   "metadata": {},
   "outputs": [],
   "source": [
    "''' \n",
    "\n",
    "Multiple inheritance : in multiple inheritances the newly derived class can have more than one superclass. \n",
    "And this newly derived class can inherit the features from these superclasses it has inherited from, \n",
    "so there are no restrictions. \n",
    "\n",
    "class A         class B\n",
    " |                 |\n",
    " |                 |\n",
    " ----> class C <----\n",
    "\n",
    "'''\n",
    "\n",
    "class D:\n",
    "    def method_of_classD(self):\n",
    "        print(\"This is form class D\")\n",
    "class E:\n",
    "    def method_of_classE(self):\n",
    "        print(\"This is form class E\")\n",
    "class F(D,E):\n",
    "    pass\n",
    "obj_F = F()"
   ]
  },
  {
   "cell_type": "code",
   "execution_count": 11,
   "id": "e9b0f7d4-6a4d-4792-88e2-1e470f746c38",
   "metadata": {},
   "outputs": [
    {
     "name": "stdout",
     "output_type": "stream",
     "text": [
      "This is form class D\n"
     ]
    }
   ],
   "source": [
    "obj_F.method_of_classD()"
   ]
  },
  {
   "cell_type": "code",
   "execution_count": 12,
   "id": "c1f2eaab-a696-41a2-adfa-d070d9f72f6f",
   "metadata": {},
   "outputs": [
    {
     "name": "stdout",
     "output_type": "stream",
     "text": [
      "This is form class E\n"
     ]
    }
   ],
   "source": [
    "obj_F.method_of_classE()"
   ]
  }
 ],
 "metadata": {
  "kernelspec": {
   "display_name": "Python 3 (ipykernel)",
   "language": "python",
   "name": "python3"
  },
  "language_info": {
   "codemirror_mode": {
    "name": "ipython",
    "version": 3
   },
   "file_extension": ".py",
   "mimetype": "text/x-python",
   "name": "python",
   "nbconvert_exporter": "python",
   "pygments_lexer": "ipython3",
   "version": "3.10.8"
  }
 },
 "nbformat": 4,
 "nbformat_minor": 5
}
