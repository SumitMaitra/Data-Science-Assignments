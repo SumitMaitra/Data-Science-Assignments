{
 "cells": [
  {
   "cell_type": "code",
   "execution_count": 4,
   "id": "3959787d-c4c6-4d72-94a0-9bc9239c64e7",
   "metadata": {},
   "outputs": [
    {
     "name": "stdin",
     "output_type": "stream",
     "text": [
      "Enter Your Percentage of Marks: 20\n"
     ]
    },
    {
     "name": "stdout",
     "output_type": "stream",
     "text": [
      "Your Grade is D\n"
     ]
    }
   ],
   "source": [
    "# 1. program to accept percentage and display grade ...........\n",
    "marks = int(input(\"Enter Your Percentage of Marks:\"))\n",
    "if marks >90 : \n",
    "    print(\"Your Grade is A\")\n",
    "elif marks >80 and marks <= 90 :\n",
    "    print(\"Your Grade is B\")\n",
    "elif marks >=60 and marks <= 80 :\n",
    "    print(\"Your Grade is C\")\n",
    "else :\n",
    "    print(\"Your Grade is D\")"
   ]
  },
  {
   "cell_type": "code",
   "execution_count": 5,
   "id": "dca23829-f6fd-4474-b826-dbee27ff9070",
   "metadata": {},
   "outputs": [
    {
     "name": "stdin",
     "output_type": "stream",
     "text": [
      "Enter Your Cost Price of the Bike: 200\n"
     ]
    },
    {
     "name": "stdout",
     "output_type": "stream",
     "text": [
      "Road tax to be paid: 10.0\n"
     ]
    }
   ],
   "source": [
    "# 2. Accept Cost Price of the Bike to display road tax to be paid .............\n",
    "price = int(input(\"Enter Your Cost Price of the Bike:\"))\n",
    "if price >100000 :\n",
    "    print(\"Road tax to be paid:\", 15*price/100)\n",
    "elif price > 50000 and price <=100000 :\n",
    "    print(\"Road tax to be paid:\", 10*price/100)\n",
    "else :\n",
    "    print(\"Road tax to be paid:\", 5*price/100)"
   ]
  },
  {
   "cell_type": "code",
   "execution_count": 6,
   "id": "38da0697-74d2-4a5f-bb63-487bf957537d",
   "metadata": {},
   "outputs": [
    {
     "name": "stdin",
     "output_type": "stream",
     "text": [
      "Enter Your City: kolkata\n"
     ]
    },
    {
     "name": "stdout",
     "output_type": "stream",
     "text": [
      "City not in the list\n"
     ]
    }
   ],
   "source": [
    "# 3. Accept any city from the user and display monuments of that city ................\n",
    "city = input(\"Enter Your City:\")\n",
    "if city.lower() == \"delhi\" :\n",
    "    print(\"Monument: Red Fort\")\n",
    "elif city.lower() == \"agra\" :\n",
    "    print(\"Monument: Taj Mahal\")\n",
    "elif city.lower() == \"jaipur\" :\n",
    "    print(\"Monument: Jal Mahal\")\n",
    "else:\n",
    "    print(\"City not in the list\")"
   ]
  },
  {
   "cell_type": "code",
   "execution_count": 7,
   "id": "ad1c9ce6-5639-49af-ad6e-4c8848cec705",
   "metadata": {},
   "outputs": [
    {
     "name": "stdin",
     "output_type": "stream",
     "text": [
      "Enter A Number: 54\n"
     ]
    },
    {
     "name": "stdout",
     "output_type": "stream",
     "text": [
      "2\n"
     ]
    }
   ],
   "source": [
    "# 4. check how many times a given number divisible by 3 before it is less than or equal to 10 .........\n",
    "n= int(input(\"Enter A Number:\"))\n",
    "i=0\n",
    "while n >= 10 :\n",
    "    if n%3 == 0:\n",
    "        n = n/3    \n",
    "        i +=1\n",
    "print(i)"
   ]
  },
  {
   "cell_type": "code",
   "execution_count": 8,
   "id": "8e7c0b73-5302-445a-9ee1-d9f8227842aa",
   "metadata": {},
   "outputs": [
    {
     "name": "stdin",
     "output_type": "stream",
     "text": [
      "enter which table  2\n"
     ]
    },
    {
     "name": "stdout",
     "output_type": "stream",
     "text": [
      "2 x 1 = 2\n",
      "2 x 2 = 4\n",
      "2 x 3 = 6\n",
      "2 x 4 = 8\n",
      "2 x 5 = 10\n",
      "2 x 6 = 12\n",
      "2 x 7 = 14\n",
      "2 x 8 = 16\n",
      "2 x 9 = 18\n",
      "2 x 10 = 20\n"
     ]
    }
   ],
   "source": [
    "# 5. why and when to use while loop in python give a detailed description with example .............\n",
    "'''While loop is used to execute block of statements as long as condition is true, it check the condition first then \n",
    "    execute the code inside the while loop,\n",
    "     When condition evaluates to False, the loop stops.'''\n",
    "# table with while loop\n",
    "t= int(input(\"enter which table \"))\n",
    "c=1\n",
    "while c<= 10:\n",
    "    d= t*c\n",
    "    print(t,'x',c,'=',d)\n",
    "    c +=1"
   ]
  },
  {
   "cell_type": "code",
   "execution_count": 9,
   "id": "448035fb-3e91-40d9-87ba-28c817640bf8",
   "metadata": {},
   "outputs": [
    {
     "name": "stdout",
     "output_type": "stream",
     "text": [
      "* \n",
      "* * \n",
      "* * * \n",
      "* * * * \n",
      "* * * * * \n"
     ]
    }
   ],
   "source": [
    "# 6. Use nested while loop to print 3 different pattern.\n",
    "#================ pattern 1 ========================\n",
    "n, i =5, 1\n",
    "while i<=n:\n",
    "    j=1\n",
    "    while j<= i:\n",
    "        print('*',end =\" \")\n",
    "        j +=1\n",
    "    print()\n",
    "    i +=1"
   ]
  },
  {
   "cell_type": "code",
   "execution_count": 10,
   "id": "0c0b62a7-e8c9-4b16-b2ef-fe9fb3f6e710",
   "metadata": {},
   "outputs": [
    {
     "name": "stdout",
     "output_type": "stream",
     "text": [
      "* * * * * \n",
      "* * * * \n",
      "* * * \n",
      "* * \n",
      "* \n"
     ]
    }
   ],
   "source": [
    "#================ pattern 2 ========================\n",
    "n, i =5, 1\n",
    "while i<=n:\n",
    "    j=n\n",
    "    while j >= i:\n",
    "        print('*',end =\" \")\n",
    "        j -=1\n",
    "    print()\n",
    "    i +=1"
   ]
  },
  {
   "cell_type": "code",
   "execution_count": 11,
   "id": "559b9499-85f3-4041-baf9-c94af8070baa",
   "metadata": {},
   "outputs": [
    {
     "name": "stdout",
     "output_type": "stream",
     "text": [
      "    * \n",
      "   * * \n",
      "  * * * \n",
      " * * * * \n",
      "* * * * * \n"
     ]
    }
   ],
   "source": [
    "#================ pattern 3 ========================\n",
    "n,i = 5, 0\n",
    "while i< n:\n",
    "    speace = n -i -1\n",
    "    while speace > 0 :\n",
    "        print(end = ' ')\n",
    "        speace -=1\n",
    "    start = i +1\n",
    "    while start > 0 :\n",
    "        print('*', end = ' ')\n",
    "        start -=1\n",
    "    i += 1\n",
    "    print()"
   ]
  },
  {
   "cell_type": "code",
   "execution_count": 1,
   "id": "6559df62-fbbe-46b9-b81c-7fb00144c34b",
   "metadata": {},
   "outputs": [
    {
     "name": "stdout",
     "output_type": "stream",
     "text": [
      "10\n",
      "9\n",
      "8\n",
      "7\n",
      "6\n",
      "5\n",
      "4\n",
      "3\n",
      "2\n",
      "1\n"
     ]
    }
   ],
   "source": [
    "# 7. Reversea while loop to display numbers from 10 to 1. python\n",
    "n=10\n",
    "while n > 0:\n",
    "    print(n)\n",
    "    n -=1"
   ]
  },
  {
   "cell_type": "code",
   "execution_count": 2,
   "id": "3649ae0d-2ebd-4bb1-9057-1b6ec32052f4",
   "metadata": {},
   "outputs": [
    {
     "name": "stdout",
     "output_type": "stream",
     "text": [
      "10\n",
      "9\n",
      "8\n",
      "7\n",
      "6\n",
      "5\n",
      "4\n",
      "3\n",
      "2\n",
      "1\n"
     ]
    }
   ],
   "source": [
    "# 8. Reversea while loop to display numbers from 10 to 1. python\n",
    "n=10\n",
    "while n > 0:\n",
    "    print(n)\n",
    "    n -=1"
   ]
  },
  {
   "cell_type": "code",
   "execution_count": null,
   "id": "22b055e3-0cfc-45a9-b704-0b6492d8d32f",
   "metadata": {},
   "outputs": [],
   "source": []
  }
 ],
 "metadata": {
  "kernelspec": {
   "display_name": "Python 3 (ipykernel)",
   "language": "python",
   "name": "python3"
  },
  "language_info": {
   "codemirror_mode": {
    "name": "ipython",
    "version": 3
   },
   "file_extension": ".py",
   "mimetype": "text/x-python",
   "name": "python",
   "nbconvert_exporter": "python",
   "pygments_lexer": "ipython3",
   "version": "3.10.8"
  }
 },
 "nbformat": 4,
 "nbformat_minor": 5
}
