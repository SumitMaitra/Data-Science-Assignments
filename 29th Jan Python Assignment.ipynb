{
 "cells": [
  {
   "cell_type": "code",
   "execution_count": null,
   "id": "8d1c9a70-eabb-44bc-9ddd-46b7ed0f8ba8",
   "metadata": {},
   "outputs": [],
   "source": [
    "1. Who doveloped Python Programming Language?\n",
    "Ans> Guido van Rossum"
   ]
  },
  {
   "cell_type": "code",
   "execution_count": null,
   "id": "3bc50d86-2e9f-4fcb-b38c-228be2251c59",
   "metadata": {},
   "outputs": [],
   "source": [
    "2. which type of programming does python support?\n",
    "Ans>  Python supports object-oriented, structured, and functional programming."
   ]
  },
  {
   "cell_type": "code",
   "execution_count": null,
   "id": "1a94575b-225d-45f8-8692-fd46515c7a90",
   "metadata": {},
   "outputs": [],
   "source": [
    "3. is python case sensiive when dealing with identifiers?\n",
    "Ans> Yes"
   ]
  },
  {
   "cell_type": "code",
   "execution_count": null,
   "id": "e5071c15-16b3-4c7d-b580-59f94702cd28",
   "metadata": {},
   "outputs": [],
   "source": [
    "4. what is correct extension of python file?\n",
    "Ans> .py"
   ]
  },
  {
   "cell_type": "code",
   "execution_count": null,
   "id": "21e43e93-d8dd-45aa-8ce0-a25a2cb016b2",
   "metadata": {},
   "outputs": [],
   "source": [
    "5. Is python code compiled or interpreted?\n",
    "Ans> Python code is both compiled and interpreted.\n",
    "The compilation part is done first when we execute our code and this will generate byte code and internally \n",
    "this byte code gets converted by the python virtual machine(p.v.m) according to the underlying platform(machine+operating system)."
   ]
  },
  {
   "cell_type": "code",
   "execution_count": null,
   "id": "ae4e1b62-4c6b-4937-9916-d7a45967c520",
   "metadata": {},
   "outputs": [],
   "source": [
    "6. name a few blocks of code used to define in python language?\n",
    "Ans>\n",
    "Functions - defined using the \"def\" keyword and delimited by indented code blocks.\n",
    "Classes - defined using the \"class\" keyword and delimited by indented code blocks.\n",
    "Loops - defined using \"for\" or \"while\" loops, and delimited by indented code blocks.\n",
    "Conditional statements - defined using \"if\" or \"elif\" statements, and delimited by indented code blocks.\n",
    "Context managers - defined using the \"with\" statement, and delimited by indented code blocks."
   ]
  },
  {
   "cell_type": "code",
   "execution_count": null,
   "id": "110d6270-04fe-4e31-ab42-97796b7cb93e",
   "metadata": {},
   "outputs": [],
   "source": [
    "7. state a character use to give single-line comment?\n",
    "Ans> #This is Data Science assignment "
   ]
  },
  {
   "cell_type": "code",
   "execution_count": null,
   "id": "6e9b5d35-df26-41fe-924f-bccdfa694f7a",
   "metadata": {},
   "outputs": [],
   "source": [
    "8. Mention functions Which can help us to find the version of python that we are currently working on?\n",
    "Ans> \n",
    "import sys\n",
    "print(sys.version)\n",
    "print(sys.version_info)"
   ]
  },
  {
   "cell_type": "code",
   "execution_count": null,
   "id": "851a483b-ed04-449f-b026-1dbff57cb086",
   "metadata": {},
   "outputs": [],
   "source": [
    "9. python support the creation of anonymous function at runtime , using a contruct called______?\n",
    "Ans> lambda function"
   ]
  },
  {
   "cell_type": "code",
   "execution_count": null,
   "id": "4760ace2-bfbf-4732-be0b-2c5584ae3681",
   "metadata": {},
   "outputs": [],
   "source": [
    "10. what does pip stands for python?\n",
    "Ans. Preferred Installer Program"
   ]
  },
  {
   "cell_type": "code",
   "execution_count": null,
   "id": "5fbeae51-1368-40ee-82f8-787e72f0e7bd",
   "metadata": {},
   "outputs": [],
   "source": [
    "11.mention a few built-in function in python?\n",
    "Ans>\n",
    "type( ) -> The type() function returns the type of the specified object.\n",
    "print( )  -> The print() function prints the specified message to the screen or another standard output device.\n",
    "append() -> The append() method appends an element to the end of the list.\n",
    "extend() -> Iterates over its argument and adding each element to the list and extending the list. The length of the list increases by a number of elements in its argument.\n",
    "insert() -> The insert() method inserts the specified value at the specified position.\n",
    "input( ) -> The input() function allows taking the input from the user.\n",
    "len() -> The len() function returns the count of items present in a specified object."
   ]
  },
  {
   "cell_type": "code",
   "execution_count": null,
   "id": "2b59f45a-7375-49d0-b42e-c40416f4d894",
   "metadata": {},
   "outputs": [],
   "source": [
    "12. What is the maximum possible length of an identifier in python ? \n",
    "Ans> Python identifiers are unlimited in length but as per PEP-8 you should limit identifier to a maximum of 79 character for better readability but there is no restriction."
   ]
  },
  {
   "cell_type": "code",
   "execution_count": null,
   "id": "d742a67a-c63d-43f7-8384-9fddf3cc5f91",
   "metadata": {},
   "outputs": [],
   "source": [
    "13. What are the benefits of using python ?\n",
    "Ans> These are some benifits of using python\n",
    "    \n",
    "      (1) Hundreds of Python Libraries and Frameworks.\n",
    "      (2) Easy to Learn and Use.\n",
    "      (3) Support from Renowned Corporate Sponsors.\n",
    "      (4) Mature and Supportive Python Community.\n",
    "      (5) Wide range of use cases Data science, Machine Learning and Cloud Computing.\n",
    "      (6) Security and penetration testing.\n",
    "      (7) Write less, do more."
   ]
  },
  {
   "cell_type": "code",
   "execution_count": null,
   "id": "b3426f3e-c998-4249-9903-9f3d7ec917ab",
   "metadata": {},
   "outputs": [],
   "source": [
    "14. how is memory managed in python ?\n",
    "Ans> Python Memory management involves a private heap containing all Python objects and data structures. \n",
    "The management of this private heap is ensured internally by the Python memory manager. \n",
    "The Python memory manager has different components which deal with various dynamic storage management aspects, like sharing, segmentation, preallocation or caching."
   ]
  },
  {
   "cell_type": "code",
   "execution_count": null,
   "id": "f7e2d27b-c251-4a7e-b432-deef05ff2d4f",
   "metadata": {},
   "outputs": [],
   "source": [
    "15. How to install python in windows and set path variables ?\n",
    "Ans>\n",
    "    -> Install python from https://www.python.org/downloads/\n",
    "    -> Right-clicking This PC and going to Properties.\n",
    "    -> Clicking on the Advanced system settings in the menu on the left.\n",
    "    -> Clicking on the Environment Variables button on the bottom right.\n",
    "    -> In the System variables section, selecting the Path variable and clicking on Edit. The next screen will show all the directories that are currently a part of the PATH variable.\n",
    "    -> Clicking on New and entering Python’s install directory.\n",
    "    -> Usually you can find the python installed binary in this path location: C:\\Users\\Educative\\AppData\\Local\\Programs\\Python\\Python39"
   ]
  },
  {
   "cell_type": "code",
   "execution_count": null,
   "id": "3522f254-4cf9-4d4b-9b66-e954db06ff9b",
   "metadata": {},
   "outputs": [],
   "source": [
    "16. Is identation required in python ?\n",
    "Ans> Python uses indentation to indicate a block of code.\n",
    "Indentation refers to the spaces at the beginning of a code line.\n",
    "In another word, all the statements with the same space to the right, belong to the same code block.\n",
    "Where in other programming languages the indentation in code is for readability only, the indentation in Python is very important."
   ]
  }
 ],
 "metadata": {
  "kernelspec": {
   "display_name": "Python 3 (ipykernel)",
   "language": "python",
   "name": "python3"
  },
  "language_info": {
   "codemirror_mode": {
    "name": "ipython",
    "version": 3
   },
   "file_extension": ".py",
   "mimetype": "text/x-python",
   "name": "python",
   "nbconvert_exporter": "python",
   "pygments_lexer": "ipython3",
   "version": "3.10.8"
  }
 },
 "nbformat": 4,
 "nbformat_minor": 5
}
