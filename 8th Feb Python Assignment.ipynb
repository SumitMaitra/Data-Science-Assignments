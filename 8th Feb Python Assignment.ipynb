{
 "cells": [
  {
   "cell_type": "code",
   "execution_count": 3,
   "id": "4b95ae9b-06f5-4779-ac26-d70f6c393f51",
   "metadata": {},
   "outputs": [
    {
     "data": {
      "text/plain": [
       "'This is class-> audi, method -> audi'"
      ]
     },
     "execution_count": 3,
     "metadata": {},
     "output_type": "execute_result"
    }
   ],
   "source": [
    "# 1. What is Abstraction in OOps? Explain with an example.\n",
    "'''\n",
    "Abstraction :   Process of hiding internal details of an application from the external world. \n",
    "                It creats a boundary between application and client program. \n",
    "'''\n",
    "# Eg:\n",
    "import abc #import abstract class\n",
    "class car:\n",
    "    @abc.abstractmethod\n",
    "    def audi(self):\n",
    "        pass\n",
    "    @abc.abstractmethod\n",
    "    def bmw(self):\n",
    "        pass\n",
    "class audi(car):\n",
    "    def audi(self):\n",
    "        return 'This is class-> audi, method -> audi'\n",
    "obj_audi = audi()\n",
    "obj_audi.audi()"
   ]
  },
  {
   "cell_type": "code",
   "execution_count": 4,
   "id": "27d86bf8-8596-498a-ae36-8ced15f88974",
   "metadata": {},
   "outputs": [
    {
     "data": {
      "text/plain": [
       "'This is class-> bmw, method -> bmw'"
      ]
     },
     "execution_count": 4,
     "metadata": {},
     "output_type": "execute_result"
    }
   ],
   "source": [
    "class bmw(car):\n",
    "    def bmw(self):\n",
    "        return 'This is class-> bmw, method -> bmw'\n",
    "obj_bmw = bmw()\n",
    "obj_bmw.bmw()"
   ]
  },
  {
   "cell_type": "code",
   "execution_count": 5,
   "id": "90fcc0b9-a6e0-41b6-9f27-db8650baf391",
   "metadata": {},
   "outputs": [],
   "source": [
    "# 2. Differentiate between Abstraction and Encapsulation. Explain with an example.\n",
    "'''\n",
    " Abstraction -> Abstraction is hiding the details and implementation of the code,\n",
    "                used for to create blue print or skeleton of the code.\n",
    " Encapsulation -> Encapsulation is hiding the data and controlling the visibility of the code.\n",
    " \n",
    "'''\n",
    "# Eg:\n",
    "from abc import ABC, abstractmethod\n",
    "\n",
    "class bank_account(ABC):   \n",
    "    @abstractmethod # using abstract method on the class 'bank_account' methods\n",
    "    def diposit(self): # only declaring the method\n",
    "        pass   \n",
    "    @abstractmethod\n",
    "    def withdra(self):\n",
    "        pass\n",
    "    @abstractmethod\n",
    "    def get_balance(self):\n",
    "        pass\n",
    "    \n",
    "class class_diposit(bank_account):\n",
    "        def __init__(self, blnc): \n",
    "              self.__blnc = blnc # using encapsulation to hiding the class variavle '__blnc'\n",
    "        def diposit(self, blnc): \n",
    "            self.__blnc = self.__blnc + blnc\n",
    "        def withdra(self, blnc): # this is the implemetational delaits of the methods\n",
    "                if self.__blnc >= blnc and blnc > 0:\n",
    "                    self.__blnc = self.__blnc - blnc\n",
    "                    return True\n",
    "                else :\n",
    "                    return False\n",
    "        def get_balance(self):\n",
    "             return self.__blnc"
   ]
  },
  {
   "cell_type": "code",
   "execution_count": 6,
   "id": "6105ce4f-ad14-4233-ad0f-f680a86d5146",
   "metadata": {},
   "outputs": [
    {
     "data": {
      "text/plain": [
       "3000"
      ]
     },
     "execution_count": 6,
     "metadata": {},
     "output_type": "execute_result"
    }
   ],
   "source": [
    "obj_bank = class_diposit(3000)\n",
    "obj_bank.get_balance() # only methoeds can be visible to the calss object"
   ]
  },
  {
   "cell_type": "code",
   "execution_count": 9,
   "id": "020b0343-25e4-483b-8b91-044808c248ad",
   "metadata": {},
   "outputs": [
    {
     "data": {
      "text/plain": [
       "2400"
      ]
     },
     "execution_count": 9,
     "metadata": {},
     "output_type": "execute_result"
    }
   ],
   "source": [
    "obj_bank.withdra(300)\n",
    "obj_bank.get_balance()"
   ]
  },
  {
   "cell_type": "code",
   "execution_count": 10,
   "id": "77c26e89-c531-4abc-ab10-2ece4e6e68b2",
   "metadata": {},
   "outputs": [
    {
     "data": {
      "text/plain": [
       "9400"
      ]
     },
     "execution_count": 10,
     "metadata": {},
     "output_type": "execute_result"
    }
   ],
   "source": [
    "obj_bank.diposit(7000)\n",
    "obj_bank.get_balance()"
   ]
  },
  {
   "cell_type": "code",
   "execution_count": 2,
   "id": "61fbb21f-3811-4676-bc65-e563b89dc585",
   "metadata": {},
   "outputs": [],
   "source": [
    "# 3. What is abc module in python? Why is it used?\n",
    "'''\n",
    "The abc module in Python stands for Abstract Base Classes. It is a module that provides infrastructure for defining abstract base classes (ABCs) in Python. \n",
    "An abstract base class is a class that defines an interface or a set of methods that its subclasses are expected to implement. \n",
    "Abstract base classes allow for a common interface to be shared by multiple subclasses, even if the implementation of those subclasses differs.\n",
    "'''"
   ]
  },
  {
   "cell_type": "code",
   "execution_count": null,
   "id": "03d8af3c-e200-451d-b21c-00e36d890352",
   "metadata": {},
   "outputs": [],
   "source": [
    "# 4. How can we achieve data abstraction?\n",
    "'''\n",
    "Data abstraction is a programming concept that allows us to expose only relevant information to the user while hiding unnecessary details. \n",
    "In Python, we can achieve data abstraction in a few different ways:\n",
    "\n",
    "Using Classes and Objects:  We can define classes that encapsulate the implementation details and provide a public interface that users can interact with. \n",
    "                            By using access modifiers such as private, protected, and public, we can control the level of abstraction. \n",
    "                            For example, we can define private variables and methods that are hidden from the user and only accessible within the class.\n",
    "\n",
    "Using Functions:    We can also achieve data abstraction using functions by only exposing the necessary information to the user. \n",
    "                    We can define functions that perform specific tasks and hide the implementation details. \n",
    "                    By doing this, we can simplify the user's interaction with the code and make it easier to maintain.\n",
    "\n",
    "Using Modules:  We can use modules to group related functions and classes and only expose the necessary information to the user. \n",
    "                By importing only the required modules, we can achieve data abstraction and reduce the complexity of the code.\n",
    "'''"
   ]
  },
  {
   "cell_type": "code",
   "execution_count": 10,
   "id": "a8b9fdb5-52d6-46e7-b9d3-56ec31255dc2",
   "metadata": {},
   "outputs": [],
   "source": [
    "# 5. Can we create an instance of an abstract class? Explain your answer.\n",
    "'''\n",
    "No, we cannot create an instance of an abstract class in Python. An abstract class is a class that cannot be instantiated, \n",
    "meaning we cannot create objects of an abstract class directly. The purpose of an abstract class is to provide a blueprint for its subclasses to follow. \n",
    "It defines the common interface that its subclasses must implement, but it does not provide a concrete implementation of its methods.\n",
    "'''\n",
    "from abc import ABC, abstractmethod\n",
    "class Circle(ABC):\n",
    "    @abstractmethod\n",
    "    def parameter(self):\n",
    "        pass\n",
    "    @abstractmethod\n",
    "    def area(self):\n",
    "        pass\n",
    "class Circle_output(Circle):\n",
    "    def __init__(self, p):\n",
    "        self.__p = p\n",
    "    def parameter(self):\n",
    "        p = 2*3.14*self.__p\n",
    "        return p\n",
    "    def area(self):\n",
    "        a = 3.14*self.__p**2\n",
    "        return a"
   ]
  },
  {
   "cell_type": "code",
   "execution_count": 11,
   "id": "2daf272e-0505-469d-a042-eaebe82ebd2b",
   "metadata": {},
   "outputs": [
    {
     "name": "stdout",
     "output_type": "stream",
     "text": [
      "Area is: 28.26 Parameter is 18.84\n"
     ]
    }
   ],
   "source": [
    "obj_c_output = Circle_output(3) # we can craete instance of class 'Circle_output'\n",
    "print('Area is:',obj_c_output.area(), 'Parameter is', obj_c_output.parameter())"
   ]
  },
  {
   "cell_type": "code",
   "execution_count": 12,
   "id": "84baf8a8-900c-4ef8-8e0f-aa8965f863d6",
   "metadata": {},
   "outputs": [
    {
     "ename": "TypeError",
     "evalue": "Can't instantiate abstract class Circle with abstract methods area, parameter",
     "output_type": "error",
     "traceback": [
      "\u001b[0;31m---------------------------------------------------------------------------\u001b[0m",
      "\u001b[0;31mTypeError\u001b[0m                                 Traceback (most recent call last)",
      "Cell \u001b[0;32mIn[12], line 1\u001b[0m\n\u001b[0;32m----> 1\u001b[0m obj_c \u001b[38;5;241m=\u001b[39m \u001b[43mCircle\u001b[49m\u001b[43m(\u001b[49m\u001b[43m)\u001b[49m \u001b[38;5;66;03m#but we cant create an instance of abstarct class 'Circle'\u001b[39;00m\n",
      "\u001b[0;31mTypeError\u001b[0m: Can't instantiate abstract class Circle with abstract methods area, parameter"
     ]
    }
   ],
   "source": [
    "obj_c = Circle() #but we cant create an instance of abstarct class 'Circle'"
   ]
  }
 ],
 "metadata": {
  "kernelspec": {
   "display_name": "Python 3 (ipykernel)",
   "language": "python",
   "name": "python3"
  },
  "language_info": {
   "codemirror_mode": {
    "name": "ipython",
    "version": 3
   },
   "file_extension": ".py",
   "mimetype": "text/x-python",
   "name": "python",
   "nbconvert_exporter": "python",
   "pygments_lexer": "ipython3",
   "version": "3.10.8"
  }
 },
 "nbformat": 4,
 "nbformat_minor": 5
}
